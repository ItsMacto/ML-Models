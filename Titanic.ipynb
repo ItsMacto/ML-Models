{
  "nbformat": 4,
  "nbformat_minor": 0,
  "metadata": {
    "colab": {
      "provenance": [],
      "mount_file_id": "1dH2aBq8UBjIslJFvkFuMIaOpYVH2bkid",
      "authorship_tag": "ABX9TyOk1AGZirDqyRPvFrLuhkEd",
      "include_colab_link": true
    },
    "kernelspec": {
      "name": "python3",
      "display_name": "Python 3"
    },
    "language_info": {
      "name": "python"
    }
  },
  "cells": [
    {
      "cell_type": "markdown",
      "metadata": {
        "id": "view-in-github",
        "colab_type": "text"
      },
      "source": [
        "<a href=\"https://colab.research.google.com/github/ItsMacto/ML-Models/blob/main/Titanic.ipynb\" target=\"_parent\"><img src=\"https://colab.research.google.com/assets/colab-badge.svg\" alt=\"Open In Colab\"/></a>"
      ]
    },
    {
      "cell_type": "code",
      "execution_count": 148,
      "metadata": {
        "id": "6hT7N6-2KMwf"
      },
      "outputs": [],
      "source": [
        "from pathlib import Path\n",
        "import pandas as pd\n",
        "\n",
        "train = pd.read_csv('./datasets/titanic_dataset/train.csv')\n",
        "test = pd.read_csv('./datasets/titanic_dataset/test.csv')"
      ]
    },
    {
      "cell_type": "code",
      "source": [
        "train.head()"
      ],
      "metadata": {
        "colab": {
          "base_uri": "https://localhost:8080/",
          "height": 206
        },
        "id": "kUqkzWgr0Z79",
        "outputId": "5c71fcf4-1b2b-4e40-d4f9-65998733b384"
      },
      "execution_count": 149,
      "outputs": [
        {
          "output_type": "execute_result",
          "data": {
            "text/plain": [
              "   PassengerId  Survived  Pclass  \\\n",
              "0            1         0       3   \n",
              "1            2         1       1   \n",
              "2            3         1       3   \n",
              "3            4         1       1   \n",
              "4            5         0       3   \n",
              "\n",
              "                                                Name     Sex   Age  SibSp  \\\n",
              "0                            Braund, Mr. Owen Harris    male  22.0      1   \n",
              "1  Cumings, Mrs. John Bradley (Florence Briggs Th...  female  38.0      1   \n",
              "2                             Heikkinen, Miss. Laina  female  26.0      0   \n",
              "3       Futrelle, Mrs. Jacques Heath (Lily May Peel)  female  35.0      1   \n",
              "4                           Allen, Mr. William Henry    male  35.0      0   \n",
              "\n",
              "   Parch            Ticket     Fare Cabin Embarked  \n",
              "0      0         A/5 21171   7.2500   NaN        S  \n",
              "1      0          PC 17599  71.2833   C85        C  \n",
              "2      0  STON/O2. 3101282   7.9250   NaN        S  \n",
              "3      0            113803  53.1000  C123        S  \n",
              "4      0            373450   8.0500   NaN        S  "
            ],
            "text/html": [
              "<div>\n",
              "<style scoped>\n",
              "    .dataframe tbody tr th:only-of-type {\n",
              "        vertical-align: middle;\n",
              "    }\n",
              "\n",
              "    .dataframe tbody tr th {\n",
              "        vertical-align: top;\n",
              "    }\n",
              "\n",
              "    .dataframe thead th {\n",
              "        text-align: right;\n",
              "    }\n",
              "</style>\n",
              "<table border=\"1\" class=\"dataframe\">\n",
              "  <thead>\n",
              "    <tr style=\"text-align: right;\">\n",
              "      <th></th>\n",
              "      <th>PassengerId</th>\n",
              "      <th>Survived</th>\n",
              "      <th>Pclass</th>\n",
              "      <th>Name</th>\n",
              "      <th>Sex</th>\n",
              "      <th>Age</th>\n",
              "      <th>SibSp</th>\n",
              "      <th>Parch</th>\n",
              "      <th>Ticket</th>\n",
              "      <th>Fare</th>\n",
              "      <th>Cabin</th>\n",
              "      <th>Embarked</th>\n",
              "    </tr>\n",
              "  </thead>\n",
              "  <tbody>\n",
              "    <tr>\n",
              "      <th>0</th>\n",
              "      <td>1</td>\n",
              "      <td>0</td>\n",
              "      <td>3</td>\n",
              "      <td>Braund, Mr. Owen Harris</td>\n",
              "      <td>male</td>\n",
              "      <td>22.0</td>\n",
              "      <td>1</td>\n",
              "      <td>0</td>\n",
              "      <td>A/5 21171</td>\n",
              "      <td>7.2500</td>\n",
              "      <td>NaN</td>\n",
              "      <td>S</td>\n",
              "    </tr>\n",
              "    <tr>\n",
              "      <th>1</th>\n",
              "      <td>2</td>\n",
              "      <td>1</td>\n",
              "      <td>1</td>\n",
              "      <td>Cumings, Mrs. John Bradley (Florence Briggs Th...</td>\n",
              "      <td>female</td>\n",
              "      <td>38.0</td>\n",
              "      <td>1</td>\n",
              "      <td>0</td>\n",
              "      <td>PC 17599</td>\n",
              "      <td>71.2833</td>\n",
              "      <td>C85</td>\n",
              "      <td>C</td>\n",
              "    </tr>\n",
              "    <tr>\n",
              "      <th>2</th>\n",
              "      <td>3</td>\n",
              "      <td>1</td>\n",
              "      <td>3</td>\n",
              "      <td>Heikkinen, Miss. Laina</td>\n",
              "      <td>female</td>\n",
              "      <td>26.0</td>\n",
              "      <td>0</td>\n",
              "      <td>0</td>\n",
              "      <td>STON/O2. 3101282</td>\n",
              "      <td>7.9250</td>\n",
              "      <td>NaN</td>\n",
              "      <td>S</td>\n",
              "    </tr>\n",
              "    <tr>\n",
              "      <th>3</th>\n",
              "      <td>4</td>\n",
              "      <td>1</td>\n",
              "      <td>1</td>\n",
              "      <td>Futrelle, Mrs. Jacques Heath (Lily May Peel)</td>\n",
              "      <td>female</td>\n",
              "      <td>35.0</td>\n",
              "      <td>1</td>\n",
              "      <td>0</td>\n",
              "      <td>113803</td>\n",
              "      <td>53.1000</td>\n",
              "      <td>C123</td>\n",
              "      <td>S</td>\n",
              "    </tr>\n",
              "    <tr>\n",
              "      <th>4</th>\n",
              "      <td>5</td>\n",
              "      <td>0</td>\n",
              "      <td>3</td>\n",
              "      <td>Allen, Mr. William Henry</td>\n",
              "      <td>male</td>\n",
              "      <td>35.0</td>\n",
              "      <td>0</td>\n",
              "      <td>0</td>\n",
              "      <td>373450</td>\n",
              "      <td>8.0500</td>\n",
              "      <td>NaN</td>\n",
              "      <td>S</td>\n",
              "    </tr>\n",
              "  </tbody>\n",
              "</table>\n",
              "</div>"
            ]
          },
          "metadata": {},
          "execution_count": 149
        }
      ]
    },
    {
      "cell_type": "code",
      "source": [
        "train.set_index('PassengerId', inplace=True)\n",
        "test.set_index('PassengerId', inplace=True)"
      ],
      "metadata": {
        "id": "zHTi3FQ45MWI"
      },
      "execution_count": 150,
      "outputs": []
    },
    {
      "cell_type": "code",
      "source": [
        "train.info()"
      ],
      "metadata": {
        "colab": {
          "base_uri": "https://localhost:8080/"
        },
        "id": "w_LPVmNp5mZg",
        "outputId": "c8daec0d-2890-47af-e206-dbeff8fed938"
      },
      "execution_count": 151,
      "outputs": [
        {
          "output_type": "stream",
          "name": "stdout",
          "text": [
            "<class 'pandas.core.frame.DataFrame'>\n",
            "RangeIndex: 891 entries, 0 to 890\n",
            "Data columns (total 12 columns):\n",
            " #   Column       Non-Null Count  Dtype  \n",
            "---  ------       --------------  -----  \n",
            " 0   PassengerId  891 non-null    int64  \n",
            " 1   Survived     891 non-null    int64  \n",
            " 2   Pclass       891 non-null    int64  \n",
            " 3   Name         891 non-null    object \n",
            " 4   Sex          891 non-null    object \n",
            " 5   Age          714 non-null    float64\n",
            " 6   SibSp        891 non-null    int64  \n",
            " 7   Parch        891 non-null    int64  \n",
            " 8   Ticket       891 non-null    object \n",
            " 9   Fare         891 non-null    float64\n",
            " 10  Cabin        204 non-null    object \n",
            " 11  Embarked     889 non-null    object \n",
            "dtypes: float64(2), int64(5), object(5)\n",
            "memory usage: 83.7+ KB\n"
          ]
        }
      ]
    },
    {
      "cell_type": "code",
      "source": [
        "train.describe()"
      ],
      "metadata": {
        "colab": {
          "base_uri": "https://localhost:8080/",
          "height": 300
        },
        "id": "WHrq-f00C_i4",
        "outputId": "bddd31f5-149f-4609-d7d8-e48cb2e917c6"
      },
      "execution_count": 152,
      "outputs": [
        {
          "output_type": "execute_result",
          "data": {
            "text/plain": [
              "       PassengerId    Survived      Pclass         Age       SibSp  \\\n",
              "count   891.000000  891.000000  891.000000  714.000000  891.000000   \n",
              "mean    446.000000    0.383838    2.308642   29.699118    0.523008   \n",
              "std     257.353842    0.486592    0.836071   14.526497    1.102743   \n",
              "min       1.000000    0.000000    1.000000    0.420000    0.000000   \n",
              "25%     223.500000    0.000000    2.000000   20.125000    0.000000   \n",
              "50%     446.000000    0.000000    3.000000   28.000000    0.000000   \n",
              "75%     668.500000    1.000000    3.000000   38.000000    1.000000   \n",
              "max     891.000000    1.000000    3.000000   80.000000    8.000000   \n",
              "\n",
              "            Parch        Fare  \n",
              "count  891.000000  891.000000  \n",
              "mean     0.381594   32.204208  \n",
              "std      0.806057   49.693429  \n",
              "min      0.000000    0.000000  \n",
              "25%      0.000000    7.910400  \n",
              "50%      0.000000   14.454200  \n",
              "75%      0.000000   31.000000  \n",
              "max      6.000000  512.329200  "
            ],
            "text/html": [
              "<div>\n",
              "<style scoped>\n",
              "    .dataframe tbody tr th:only-of-type {\n",
              "        vertical-align: middle;\n",
              "    }\n",
              "\n",
              "    .dataframe tbody tr th {\n",
              "        vertical-align: top;\n",
              "    }\n",
              "\n",
              "    .dataframe thead th {\n",
              "        text-align: right;\n",
              "    }\n",
              "</style>\n",
              "<table border=\"1\" class=\"dataframe\">\n",
              "  <thead>\n",
              "    <tr style=\"text-align: right;\">\n",
              "      <th></th>\n",
              "      <th>PassengerId</th>\n",
              "      <th>Survived</th>\n",
              "      <th>Pclass</th>\n",
              "      <th>Age</th>\n",
              "      <th>SibSp</th>\n",
              "      <th>Parch</th>\n",
              "      <th>Fare</th>\n",
              "    </tr>\n",
              "  </thead>\n",
              "  <tbody>\n",
              "    <tr>\n",
              "      <th>count</th>\n",
              "      <td>891.000000</td>\n",
              "      <td>891.000000</td>\n",
              "      <td>891.000000</td>\n",
              "      <td>714.000000</td>\n",
              "      <td>891.000000</td>\n",
              "      <td>891.000000</td>\n",
              "      <td>891.000000</td>\n",
              "    </tr>\n",
              "    <tr>\n",
              "      <th>mean</th>\n",
              "      <td>446.000000</td>\n",
              "      <td>0.383838</td>\n",
              "      <td>2.308642</td>\n",
              "      <td>29.699118</td>\n",
              "      <td>0.523008</td>\n",
              "      <td>0.381594</td>\n",
              "      <td>32.204208</td>\n",
              "    </tr>\n",
              "    <tr>\n",
              "      <th>std</th>\n",
              "      <td>257.353842</td>\n",
              "      <td>0.486592</td>\n",
              "      <td>0.836071</td>\n",
              "      <td>14.526497</td>\n",
              "      <td>1.102743</td>\n",
              "      <td>0.806057</td>\n",
              "      <td>49.693429</td>\n",
              "    </tr>\n",
              "    <tr>\n",
              "      <th>min</th>\n",
              "      <td>1.000000</td>\n",
              "      <td>0.000000</td>\n",
              "      <td>1.000000</td>\n",
              "      <td>0.420000</td>\n",
              "      <td>0.000000</td>\n",
              "      <td>0.000000</td>\n",
              "      <td>0.000000</td>\n",
              "    </tr>\n",
              "    <tr>\n",
              "      <th>25%</th>\n",
              "      <td>223.500000</td>\n",
              "      <td>0.000000</td>\n",
              "      <td>2.000000</td>\n",
              "      <td>20.125000</td>\n",
              "      <td>0.000000</td>\n",
              "      <td>0.000000</td>\n",
              "      <td>7.910400</td>\n",
              "    </tr>\n",
              "    <tr>\n",
              "      <th>50%</th>\n",
              "      <td>446.000000</td>\n",
              "      <td>0.000000</td>\n",
              "      <td>3.000000</td>\n",
              "      <td>28.000000</td>\n",
              "      <td>0.000000</td>\n",
              "      <td>0.000000</td>\n",
              "      <td>14.454200</td>\n",
              "    </tr>\n",
              "    <tr>\n",
              "      <th>75%</th>\n",
              "      <td>668.500000</td>\n",
              "      <td>1.000000</td>\n",
              "      <td>3.000000</td>\n",
              "      <td>38.000000</td>\n",
              "      <td>1.000000</td>\n",
              "      <td>0.000000</td>\n",
              "      <td>31.000000</td>\n",
              "    </tr>\n",
              "    <tr>\n",
              "      <th>max</th>\n",
              "      <td>891.000000</td>\n",
              "      <td>1.000000</td>\n",
              "      <td>3.000000</td>\n",
              "      <td>80.000000</td>\n",
              "      <td>8.000000</td>\n",
              "      <td>6.000000</td>\n",
              "      <td>512.329200</td>\n",
              "    </tr>\n",
              "  </tbody>\n",
              "</table>\n",
              "</div>"
            ]
          },
          "metadata": {},
          "execution_count": 152
        }
      ]
    },
    {
      "cell_type": "markdown",
      "source": [
        "plan:\n",
        "- handle nulls\n",
        "- creating reletive mediams\n",
        "- view data\n",
        "- pre process\n",
        "- feature engineer\n",
        "- split x and y\n",
        "- model\n",
        "- hyperr prams"
      ],
      "metadata": {
        "id": "Bpr9iO_e6nYZ"
      }
    },
    {
      "cell_type": "markdown",
      "source": [
        "The attributes have the following meaning:\n",
        "* **PassengerId**: a unique identifier for each passenger\n",
        "* **Survived**: that's the target, 0 means the passenger did not survive, while 1 means he/she survived.\n",
        "* **Pclass**: passenger class 1, 2, 3\n",
        "* **Name**, **Sex**, **Age**: self-explanatory\n",
        "* **SibSp**: how many siblings & spouses of the passenger aboard the Titanic.\n",
        "* **Parch**: how many children & parents of the passenger aboard the Titanic.\n",
        "* **Ticket**: ticket id\n",
        "* **Fare**: price paid (in pounds)\n",
        "* **Cabin**: passenger's cabin number\n",
        "* **Embarked**: where the passenger embarked the Titanic"
      ],
      "metadata": {
        "id": "pX1JsdvjNwZc"
      }
    },
    {
      "cell_type": "code",
      "source": [
        "train['Ticket'].value_counts()"
      ],
      "metadata": {
        "colab": {
          "base_uri": "https://localhost:8080/"
        },
        "id": "JdzsaRIQOt9B",
        "outputId": "e0757602-9c53-41e3-965b-7daa50124a3a"
      },
      "execution_count": 153,
      "outputs": [
        {
          "output_type": "execute_result",
          "data": {
            "text/plain": [
              "Ticket\n",
              "347082      7\n",
              "CA. 2343    7\n",
              "1601        7\n",
              "3101295     6\n",
              "CA 2144     6\n",
              "           ..\n",
              "9234        1\n",
              "19988       1\n",
              "2693        1\n",
              "PC 17612    1\n",
              "370376      1\n",
              "Name: count, Length: 681, dtype: int64"
            ]
          },
          "metadata": {},
          "execution_count": 153
        }
      ]
    },
    {
      "cell_type": "code",
      "source": [
        "def RelativesOnboard(df):\n",
        "    df['RelativesOnboard'] = df['SibSp'] + df['Parch']\n",
        "    return df\n",
        "\n",
        "def AgeGroup(df):\n",
        "    df['AgeGroup'] = pd.cut(df['Age'], bins=[0, 18, 60, float('inf')], labels=['Child', 'Adult', 'Senior'])\n",
        "    return df\n",
        "\n",
        "# testRelativesOnboard = RelativesOnboard(train)\n",
        "# testAgeGroup = AgeGroup(train)\n",
        "\n",
        "# print(testRelativesOnboard[['RelativesOnboard', 'Survived']].groupby(['RelativesOnboard']).mean())\n",
        "# print(testAgeGroup[['AgeGroup', 'Survived']].groupby(['AgeGroup']).mean())\n",
        "# print(testAgeGroup[['AgeGroup', 'Survived','Sex']].groupby(['AgeGroup','Sex']).mean())"
      ],
      "metadata": {
        "id": "Y__6RpH-h1P8"
      },
      "execution_count": 174,
      "outputs": []
    },
    {
      "cell_type": "code",
      "source": [
        "train = RelativesOnboard(train)\n",
        "train = AgeGroup(train)\n",
        "\n",
        "test = RelativesOnboard(test)\n",
        "test = AgeGroup(test)"
      ],
      "metadata": {
        "id": "WEoWR8YTv9SU"
      },
      "execution_count": 155,
      "outputs": []
    },
    {
      "cell_type": "code",
      "source": [
        "from sklearn.pipeline import Pipeline\n",
        "from sklearn.impute import SimpleImputer\n",
        "from sklearn.preprocessing import StandardScaler, OneHotEncoder\n",
        "from sklearn.compose import ColumnTransformer\n",
        "from sklearn.base import BaseEstimator, TransformerMixin\n",
        "\n",
        "import numpy as np\n",
        "\n",
        "class GroupedMedianImputer(BaseEstimator, TransformerMixin):\n",
        "    def __init__(self, group_cols, target_col):\n",
        "        self.group_cols = group_cols\n",
        "        self.target_col = target_col\n",
        "\n",
        "    def fit(self, X, y=None):\n",
        "        return self\n",
        "\n",
        "    def transform(self, X):\n",
        "        X = X.copy()\n",
        "        # Use groupby and transform to align the indices correctly\n",
        "        X[self.target_col] = X[self.target_col].fillna(\n",
        "            X.groupby(self.group_cols)[self.target_col].transform('median')\n",
        "        )\n",
        "        return X\n",
        "\n",
        "num_attribs = ['Age', 'Pclass', 'SibSp', 'Parch', 'Fare','RelativesOnboard']\n",
        "cat_attribs = ['Embarked', 'Sex','AgeGroup']\n",
        "\n",
        "num_pipeline = Pipeline([\n",
        "    ('imputer', SimpleImputer(strategy='median')),\n",
        "    ('scaler', StandardScaler()),\n",
        "])\n",
        "\n",
        "cat_pipeline = Pipeline([\n",
        "    ('imputer', SimpleImputer(strategy='most_frequent')),\n",
        "    ('one_hot', OneHotEncoder(sparse_output=False)),\n",
        "])\n",
        "\n",
        "preprocess_pipeline = Pipeline([\n",
        "    ('age_imputer', GroupedMedianImputer(group_cols=['Sex'], target_col='Age')),\n",
        "    ('column_transformer', ColumnTransformer([\n",
        "        ('num', num_pipeline, num_attribs),\n",
        "        ('cat', cat_pipeline, cat_attribs),\n",
        "    ]))\n",
        "])\n",
        "\n",
        "\n",
        "\n",
        "# num_attribs = ['Age', 'Pclass', 'SibSp', 'Parch', 'Fare']\n",
        "# cat_attribs = ['Embarked', 'Sex']\n",
        "\n",
        "# num_pipeline = Pipeline([\n",
        "#     ('imputer', SimpleImputer(strategy='median')),\n",
        "#     ('scaler', StandardScaler()),\n",
        "# ])\n",
        "\n",
        "# cat_pipeline = Pipeline([\n",
        "#     ('imputer', SimpleImputer(strategy='most_frequent')),\n",
        "#     ('one_hot', OneHotEncoder(sparse_output=False)),\n",
        "# ])\n",
        "\n",
        "# preprocess_pipeline = Pipeline([\n",
        "#     ('column_transformer', ColumnTransformer([\n",
        "#         ('num', num_pipeline, num_attribs),\n",
        "#         ('cat', cat_pipeline, cat_attribs),\n",
        "#     ]))\n",
        "# ])\n",
        "\n"
      ],
      "metadata": {
        "id": "pkj-KVAMNUcp"
      },
      "execution_count": 156,
      "outputs": []
    },
    {
      "cell_type": "code",
      "source": [
        "#Split target and labels\n",
        "X_train = preprocess_pipeline.fit_transform(train)\n",
        "y_train = train['Survived']"
      ],
      "metadata": {
        "id": "XNU4eAVySVwf"
      },
      "execution_count": 157,
      "outputs": []
    },
    {
      "cell_type": "code",
      "source": [
        "from sklearn.ensemble import RandomForestClassifier\n",
        "from sklearn.model_selection import cross_val_score\n",
        "\n",
        "forest_clf = RandomForestClassifier(n_estimators=100, random_state=42)\n",
        "forest_scores = cross_val_score(forest_clf, X_train, y_train, cv=10)\n",
        "forest_scores.mean()"
      ],
      "metadata": {
        "colab": {
          "base_uri": "https://localhost:8080/"
        },
        "id": "81-YJkSUSmF9",
        "outputId": "f1608303-70e7-49bd-f0e1-553cd3c9626b"
      },
      "execution_count": 158,
      "outputs": [
        {
          "output_type": "execute_result",
          "data": {
            "text/plain": [
              "0.80812734082397"
            ]
          },
          "metadata": {},
          "execution_count": 158
        }
      ]
    },
    {
      "cell_type": "markdown",
      "source": [
        "0.817116104868914\n"
      ],
      "metadata": {
        "id": "mJARtKDDjYVD"
      }
    },
    {
      "cell_type": "markdown",
      "source": [
        "Thats doing alright. Now lets try mutiple models with hyper pramater tuning"
      ],
      "metadata": {
        "id": "bVhl_XatpZhS"
      }
    },
    {
      "cell_type": "code",
      "source": [
        "from sklearn.model_selection import GridSearchCV\n",
        "from sklearn.linear_model import LogisticRegression\n",
        "from sklearn.tree import DecisionTreeClassifier\n",
        "from sklearn.ensemble import RandomForestClassifier\n",
        "from sklearn.svm import SVC\n",
        "\n",
        "full_pipeline = Pipeline([\n",
        "    ('preprocessor', preprocess_pipeline),\n",
        "    ('classifier', None),\n",
        "])\n",
        "\n",
        "param_grid = [\n",
        "    # Logistic Regression\n",
        "    {\n",
        "        'classifier': [LogisticRegression(max_iter=1000, random_state=42)],\n",
        "        'classifier__C': [0.1, 1.0, 10.0],\n",
        "        'classifier__penalty': ['l2'],\n",
        "        'classifier__solver': ['lbfgs'],\n",
        "    },\n",
        "    # Decision Tree\n",
        "    {\n",
        "        'classifier': [DecisionTreeClassifier(random_state=42)],\n",
        "        'classifier__max_depth': [None, 5, 10],\n",
        "        'classifier__min_samples_split': [2, 5, 10],\n",
        "    },\n",
        "    # Random Forest\n",
        "    {\n",
        "        'classifier': [RandomForestClassifier(random_state=42)],\n",
        "        'classifier__n_estimators': [100, 200, 500, 1000],\n",
        "        'classifier__max_features': [3, 5, 10, 'sqrt', 'log2', None],\n",
        "        'classifier__max_depth': [None, 5, 10],\n",
        "    },\n",
        "\n",
        "    # Support Vector Machine\n",
        "    {\n",
        "        'classifier': [SVC(random_state=42)],\n",
        "        'classifier__C': [0.1, 1.0, 10.0, 100],\n",
        "        'classifier__kernel': ['linear', 'rbf'],\n",
        "        'classifier__gamma': ['scale', 'auto'],\n",
        "    },\n",
        "]\n",
        "\n",
        "# Set up GridSearchCV\n",
        "grid_search = GridSearchCV(full_pipeline, param_grid, cv=10, scoring='accuracy', n_jobs=-1)"
      ],
      "metadata": {
        "id": "l0FMfrv5pgGP"
      },
      "execution_count": 159,
      "outputs": []
    },
    {
      "cell_type": "code",
      "source": [
        "X_train = train.drop('Survived', axis=1)\n",
        "y_train = train['Survived']\n",
        "\n",
        "grid_search.fit(X_train, y_train)\n",
        "\n",
        "# Evaluate the results\n",
        "print(\"Best parameters:\")\n",
        "print(grid_search.best_params_)\n",
        "print(f\"Best cross-validation accuracy: {grid_search.best_score_:.4f}\")\n",
        "\n",
        "# Best model\n",
        "best_model = grid_search.best_estimator_\n",
        "\n",
        "\n",
        "# Convert cv_results_ to a pandas DataFrame for easier manipulation\n",
        "results_df = pd.DataFrame(grid_search.cv_results_)\n",
        "\n",
        "# Extract the classifier names from the 'param_classifier' parameter\n",
        "results_df['classifier_name'] = results_df['param_classifier'].apply(lambda clf: clf.__class__.__name__)\n",
        "\n",
        "# Group the results by classifier name and find the best mean test score for each\n",
        "best_scores = results_df.groupby('classifier_name')['mean_test_score'].max()\n",
        "\n",
        "# Print the best cross-validation accuracy for each classifier\n",
        "print(\"Best cross-validation accuracy for each classifier:\")\n",
        "for classifier, score in best_scores.items():\n",
        "    print(f\"{classifier}: {score:.4f}\")"
      ],
      "metadata": {
        "colab": {
          "base_uri": "https://localhost:8080/"
        },
        "id": "DQAnd-JoqGpN",
        "outputId": "6e1fcfa8-d41f-4743-e4ef-d0ef5d9ef734"
      },
      "execution_count": 160,
      "outputs": [
        {
          "output_type": "stream",
          "name": "stdout",
          "text": [
            "Best parameters:\n",
            "{'classifier': RandomForestClassifier(max_depth=10, max_features=10, n_estimators=500,\n",
            "                       random_state=42), 'classifier__max_depth': 10, 'classifier__max_features': 10, 'classifier__n_estimators': 500}\n",
            "Best cross-validation accuracy: 0.8385\n",
            "Best cross-validation accuracy for each classifier:\n",
            "DecisionTreeClassifier: 0.8093\n",
            "LogisticRegression: 0.8002\n",
            "RandomForestClassifier: 0.8385\n",
            "SVC: 0.8294\n"
          ]
        }
      ]
    },
    {
      "cell_type": "markdown",
      "source": [
        "Without feature enginering: (Best parameters:\n",
        "{'classifier': RandomForestClassifier(max_depth=10, max_features=3, random_state=42), 'classifier__max_depth': 10, 'classifier__max_features': 3, 'classifier__n_estimators': 100}\n",
        "Best cross-validation accuracy: 0.8350\n",
        "Best cross-validation accuracy for each classifier:\n",
        "DecisionTreeClassifier: 0.8048\n",
        "LogisticRegression: 0.7991\n",
        "RandomForestClassifier: 0.8350\n",
        "SVC: 0.8261)"
      ],
      "metadata": {
        "id": "FAUmTWspwMEH"
      }
    },
    {
      "cell_type": "code",
      "source": [
        "train.info()"
      ],
      "metadata": {
        "colab": {
          "base_uri": "https://localhost:8080/"
        },
        "id": "SXGDuQvmxPF9",
        "outputId": "1712ee0d-e1d7-4ef1-dfe1-5cb4dfb731b1"
      },
      "execution_count": 161,
      "outputs": [
        {
          "output_type": "stream",
          "name": "stdout",
          "text": [
            "<class 'pandas.core.frame.DataFrame'>\n",
            "RangeIndex: 891 entries, 0 to 890\n",
            "Data columns (total 14 columns):\n",
            " #   Column            Non-Null Count  Dtype   \n",
            "---  ------            --------------  -----   \n",
            " 0   PassengerId       891 non-null    int64   \n",
            " 1   Survived          891 non-null    int64   \n",
            " 2   Pclass            891 non-null    int64   \n",
            " 3   Name              891 non-null    object  \n",
            " 4   Sex               891 non-null    object  \n",
            " 5   Age               714 non-null    float64 \n",
            " 6   SibSp             891 non-null    int64   \n",
            " 7   Parch             891 non-null    int64   \n",
            " 8   Ticket            891 non-null    object  \n",
            " 9   Fare              891 non-null    float64 \n",
            " 10  Cabin             204 non-null    object  \n",
            " 11  Embarked          889 non-null    object  \n",
            " 12  RelativesOnboard  891 non-null    int64   \n",
            " 13  AgeGroup          714 non-null    category\n",
            "dtypes: category(1), float64(2), int64(6), object(5)\n",
            "memory usage: 91.6+ KB\n"
          ]
        }
      ]
    },
    {
      "cell_type": "code",
      "source": [
        "test.info()"
      ],
      "metadata": {
        "colab": {
          "base_uri": "https://localhost:8080/"
        },
        "id": "DpYP91-LxDMD",
        "outputId": "55425d2d-8f40-4a0d-e69c-5d08015db679"
      },
      "execution_count": 162,
      "outputs": [
        {
          "output_type": "stream",
          "name": "stdout",
          "text": [
            "<class 'pandas.core.frame.DataFrame'>\n",
            "RangeIndex: 418 entries, 0 to 417\n",
            "Data columns (total 13 columns):\n",
            " #   Column            Non-Null Count  Dtype   \n",
            "---  ------            --------------  -----   \n",
            " 0   PassengerId       418 non-null    int64   \n",
            " 1   Pclass            418 non-null    int64   \n",
            " 2   Name              418 non-null    object  \n",
            " 3   Sex               418 non-null    object  \n",
            " 4   Age               332 non-null    float64 \n",
            " 5   SibSp             418 non-null    int64   \n",
            " 6   Parch             418 non-null    int64   \n",
            " 7   Ticket            418 non-null    object  \n",
            " 8   Fare              417 non-null    float64 \n",
            " 9   Cabin             91 non-null     object  \n",
            " 10  Embarked          418 non-null    object  \n",
            " 11  RelativesOnboard  418 non-null    int64   \n",
            " 12  AgeGroup          332 non-null    category\n",
            "dtypes: category(1), float64(2), int64(5), object(5)\n",
            "memory usage: 39.9+ KB\n"
          ]
        }
      ]
    },
    {
      "cell_type": "code",
      "source": [
        "predictions = best_model.predict(test)\n",
        "\n",
        "output = pd.DataFrame({\n",
        "    'PassengerId': test.index,\n",
        "    'Survived': predictions.astype(int)\n",
        "})\n",
        "output.to_csv('submission.csv', index=False)"
      ],
      "metadata": {
        "id": "QQ1U5Gh0wuqK"
      },
      "execution_count": 164,
      "outputs": []
    },
    {
      "cell_type": "markdown",
      "source": [],
      "metadata": {
        "id": "NgbfITWL2yGs"
      }
    }
  ]
}